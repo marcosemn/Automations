{
  "nbformat": 4,
  "nbformat_minor": 0,
  "metadata": {
    "colab": {
      "name": "Collatz Sequence",
      "provenance": []
    },
    "kernelspec": {
      "name": "python3",
      "display_name": "Python 3"
    },
    "language_info": {
      "name": "python"
    }
  },
  "cells": [
    {
      "cell_type": "code",
      "metadata": {
        "id": "MeYwWAi_cflm"
      },
      "source": [
        "def collatz_sequence_input():\n",
        "  x = input(\"which number do you want to make the Collatz sequence of? \")\n",
        "  try:\n",
        "    x=int(x)\n",
        "    seq = [x]\n",
        "    if x < 1:\n",
        "       return []\n",
        "    while x > 1:\n",
        "       if x % 2 == 0:\n",
        "         x = x / 2\n",
        "       else:\n",
        "         x = 3 * x + 1 \n",
        "       seq.append(x)\n",
        "    return seq\n",
        "\n",
        "  except:\n",
        "    return print(\"It is impossible to calculate the Collatz sequence from a string! Try to type a number instead\") "
      ],
      "execution_count": 1,
      "outputs": []
    },
    {
      "cell_type": "code",
      "metadata": {
        "colab": {
          "base_uri": "https://localhost:8080/"
        },
        "id": "b5aoFyDlclEL",
        "outputId": "81624513-d26f-4728-f0ab-f084403306b4"
      },
      "source": [
        "collatz_sequence_input()"
      ],
      "execution_count": 3,
      "outputs": [
        {
          "output_type": "stream",
          "text": [
            "which number do you want to make the Collatz sequence of?7\n"
          ],
          "name": "stdout"
        },
        {
          "output_type": "execute_result",
          "data": {
            "text/plain": [
              "[7,\n",
              " 22,\n",
              " 11.0,\n",
              " 34.0,\n",
              " 17.0,\n",
              " 52.0,\n",
              " 26.0,\n",
              " 13.0,\n",
              " 40.0,\n",
              " 20.0,\n",
              " 10.0,\n",
              " 5.0,\n",
              " 16.0,\n",
              " 8.0,\n",
              " 4.0,\n",
              " 2.0,\n",
              " 1.0]"
            ]
          },
          "metadata": {
            "tags": []
          },
          "execution_count": 3
        }
      ]
    }
  ]
}